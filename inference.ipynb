{
 "cells": [
  {
   "cell_type": "code",
   "execution_count": 1,
   "id": "2ca1193b",
   "metadata": {},
   "outputs": [
    {
     "name": "stderr",
     "output_type": "stream",
     "text": [
      "c:\\Users\\mharu\\miniconda3\\envs\\aud\\lib\\site-packages\\tqdm\\auto.py:21: TqdmWarning: IProgress not found. Please update jupyter and ipywidgets. See https://ipywidgets.readthedocs.io/en/stable/user_install.html\n",
      "  from .autonotebook import tqdm as notebook_tqdm\n"
     ]
    }
   ],
   "source": [
    "from datasets import Dataset\n",
    "import torch\n",
    "from torch.utils.data import DataLoader\n",
    "from diffusers import UNet2DModel, DDPMScheduler, DiffusionPipeline\n",
    "from diffusers.training_utils import EMAModel\n",
    "from accelerate import Accelerator\n",
    "from tqdm import tqdm\n",
    "import numpy as np\n",
    "import pickle\n",
    "import os\n",
    "from torch.utils.tensorboard import SummaryWriter\n",
    "from torch.cuda.amp import autocast, GradScaler\n"
   ]
  },
  {
   "cell_type": "code",
   "execution_count": 2,
   "id": "e67f70e3",
   "metadata": {},
   "outputs": [],
   "source": [
    "# === Define UNet and Diffusion Scheduler ===\n",
    "model = UNet2DModel(\n",
    "    sample_size=256,\n",
    "    in_channels=1,\n",
    "    out_channels=1,\n",
    "    layers_per_block=2,\n",
    "    block_out_channels=(128, 128, 256, 256, 512),\n",
    "    down_block_types=(\"DownBlock2D\", \"DownBlock2D\", \"AttnDownBlock2D\", \"DownBlock2D\", \"AttnDownBlock2D\"),\n",
    "    up_block_types=(\"AttnUpBlock2D\", \"UpBlock2D\", \"AttnUpBlock2D\", \"UpBlock2D\", \"UpBlock2D\"),\n",
    ")\n",
    "noise_scheduler = DDPMScheduler(num_train_timesteps=1000)"
   ]
  },
  {
   "cell_type": "code",
   "execution_count": 5,
   "id": "2bee236e",
   "metadata": {},
   "outputs": [],
   "source": [
    "def inference(checkpoint_path, input_spectrograms): # input : shape: (batch_size, 512, 512)\n",
    "  #checkpoint_path = \"checkpoints/checkpoint_epoch_10.pt\"\n",
    "  checkpoint = torch.load(checkpoint_path)\n",
    "  model.load_state_dict(checkpoint['model_state_dict'])\n",
    "\n",
    "  # Set model to evaluation mode\n",
    "  model.eval()\n",
    "\n",
    "  # If you're using the same scheduler, initialize it\n",
    "  noise_scheduler = DDPMScheduler(num_train_timesteps=1000)\n",
    "\n",
    "  # === Prepare Input ===\n",
    "  # Example: Load a new batch of spectrograms for inference (replace with your input)\n",
    "  #input_spectrograms = np.load(\"your_spectrogram_file_for_inference.npy\")  # shape: (batch_size, 512, 512)\n",
    "  input_spectrograms = input_spectrograms.astype(np.float32)\n",
    "  input_tensor = torch.from_numpy(input_spectrograms).unsqueeze(1)  # Add channel dimension: [B, 1, 512, 512]\n",
    "\n",
    "  # Move input tensor to the same device as the model (use CPU or GPU)\n",
    "  device = torch.device(\"cpu\")\n",
    "  model.to(device)\n",
    "  input_tensor = input_tensor.to(device)\n",
    "\n",
    "  # === Perform Inference ===\n",
    "  # Inference loop: For each spectrogram, apply the noise scheduler and predict the clean version\n",
    "  with torch.no_grad():  # No need to compute gradients during inference\n",
    "      # You can provide timesteps if you're using a diffusion model to generate\n",
    "      timesteps = torch.randint(0, noise_scheduler.num_train_timesteps, (input_tensor.shape[0],), device=device).long()\n",
    "\n",
    "      # Apply noise scheduler (to simulate the noisy input, just like during training)\n",
    "      noise = torch.randn_like(input_tensor)  # Random noise\n",
    "      noisy_spectrograms = noise_scheduler.add_noise(input_tensor, noise, timesteps)\n",
    "\n",
    "      # Pass the noisy spectrograms through the model\n",
    "      output = model(noisy_spectrograms, timesteps).sample\n",
    "\n",
    "      # The output is the model's predicted clean spectrograms\n",
    "      print(f\"Inference Output Shape: {output.shape}\")\n",
    "  return output"
   ]
  },
  {
   "cell_type": "code",
   "execution_count": 54,
   "id": "98672466",
   "metadata": {},
   "outputs": [],
   "source": [
    "checkpoint_path = 'checkpoints/checkpoint_epoch_1.pt'"
   ]
  },
  {
   "cell_type": "code",
   "execution_count": 55,
   "id": "76976967",
   "metadata": {},
   "outputs": [],
   "source": [
    "dataset = pickle.load(open(\"specs_256.p\", \"rb\"))\n",
    "dataset = dataset.astype(np.float32)"
   ]
  },
  {
   "cell_type": "code",
   "execution_count": 56,
   "id": "02429c8e",
   "metadata": {},
   "outputs": [],
   "source": [
    "temp = np.zeros((1,256,256))"
   ]
  },
  {
   "cell_type": "code",
   "execution_count": 57,
   "id": "558cff3b",
   "metadata": {},
   "outputs": [
    {
     "name": "stderr",
     "output_type": "stream",
     "text": [
      "c:\\Users\\mharu\\miniconda3\\envs\\aud\\lib\\site-packages\\diffusers\\configuration_utils.py:140: FutureWarning: Accessing config attribute `num_train_timesteps` directly via 'DDPMScheduler' object attribute is deprecated. Please access 'num_train_timesteps' over 'DDPMScheduler's config object instead, e.g. 'scheduler.config.num_train_timesteps'.\n",
      "  deprecate(\"direct config name access\", \"1.0.0\", deprecation_message, standard_warn=False)\n"
     ]
    },
    {
     "name": "stdout",
     "output_type": "stream",
     "text": [
      "Inference Output Shape: torch.Size([1, 1, 256, 256])\n"
     ]
    }
   ],
   "source": [
    "output = inference(checkpoint_path, dataset[0].reshape((1,256,256)))"
   ]
  },
  {
   "cell_type": "code",
   "execution_count": 58,
   "id": "ceabcb60",
   "metadata": {},
   "outputs": [],
   "source": [
    "output_numpy = output.squeeze(0).squeeze(0).cpu().numpy()"
   ]
  },
  {
   "cell_type": "code",
   "execution_count": 60,
   "id": "887070e9",
   "metadata": {},
   "outputs": [
    {
     "data": {
      "text/plain": [
       "np.float32(4.213393)"
      ]
     },
     "execution_count": 60,
     "metadata": {},
     "output_type": "execute_result"
    }
   ],
   "source": [
    "output_numpy.max()"
   ]
  },
  {
   "cell_type": "code",
   "execution_count": null,
   "id": "00bbd49c",
   "metadata": {},
   "outputs": [],
   "source": []
  }
 ],
 "metadata": {
  "kernelspec": {
   "display_name": "aud",
   "language": "python",
   "name": "python3"
  },
  "language_info": {
   "codemirror_mode": {
    "name": "ipython",
    "version": 3
   },
   "file_extension": ".py",
   "mimetype": "text/x-python",
   "name": "python",
   "nbconvert_exporter": "python",
   "pygments_lexer": "ipython3",
   "version": "3.10.16"
  }
 },
 "nbformat": 4,
 "nbformat_minor": 5
}
